{
 "cells": [
  {
   "attachments": {},
   "cell_type": "markdown",
   "metadata": {},
   "source": [
    "# PPG Signal Analysis"
   ]
  },
  {
   "attachments": {},
   "cell_type": "markdown",
   "metadata": {},
   "source": [
    "### Import packages"
   ]
  },
  {
   "cell_type": "code",
   "execution_count": 1,
   "metadata": {},
   "outputs": [],
   "source": [
    "import neurokit2 as nk\n",
    "from scipy import signal\n",
    "import scipy.stats as stats\n",
    "import os\n",
    "import numpy as np\n",
    "import csv\n",
    "import matplotlib.pyplot as plt\n",
    "%matplotlib tk\n",
    "# %matplotlib inline\n"
   ]
  },
  {
   "attachments": {},
   "cell_type": "markdown",
   "metadata": {},
   "source": [
    "### Specify data path and initialize variables"
   ]
  },
  {
   "cell_type": "code",
   "execution_count": 2,
   "metadata": {},
   "outputs": [],
   "source": [
    "sampling_rate = 250.0\n",
    "data_path = r'sample_data/'\n",
    "signal_path = os.path.join(data_path, 'P1_S1_baseline_1674758272_855629.csv')\n"
   ]
  },
  {
   "attachments": {},
   "cell_type": "markdown",
   "metadata": {},
   "source": [
    "### Load the data and plot signal"
   ]
  },
  {
   "cell_type": "code",
   "execution_count": 3,
   "metadata": {},
   "outputs": [
    {
     "name": "stdout",
     "output_type": "stream",
     "text": [
      "['EDA', 'Resp', 'PPG Finger', 'PPG Ear', 'arduino_ts', 'event_code']\n"
     ]
    }
   ],
   "source": [
    "ppg1 = []\n",
    "ppg2 =[]\n",
    "arduino_ts = []\n",
    "event_code = []\n",
    "skip_first = True\n",
    "with open(signal_path, newline='') as csvfile:\n",
    "    csvreader = csv.reader(csvfile, delimiter=',')\n",
    "    for ln in csvreader:\n",
    "        if skip_first:\n",
    "            print(ln)\n",
    "            skip_first = False\n",
    "        else:\n",
    "            # print(ln)\n",
    "            # break\n",
    "            ppg1.append(float(ln[2]))\n",
    "            ppg2.append(float(ln[3]))\n",
    "            arduino_ts.append(float(ln[4]))\n",
    "            if ln[5] != '':\n",
    "                event_code.append(float(ln[5]))\n",
    "            else:\n",
    "                event_code.append(-1)\n",
    "\n",
    "ppg1 = np.array(ppg1)\n",
    "ppg2 = np.array(ppg2)\n",
    "arduino_ts = np.array(arduino_ts)\n",
    "arduino_ts = (arduino_ts - arduino_ts[0])/1000\n",
    "event_code = np.array(event_code)\n"
   ]
  },
  {
   "attachments": {},
   "cell_type": "markdown",
   "metadata": {},
   "source": [
    "### Signal Filtering and Visualization"
   ]
  },
  {
   "cell_type": "code",
   "execution_count": 4,
   "metadata": {},
   "outputs": [],
   "source": [
    "sos = signal.butter(2, (0.5, 5.0), 'bandpass', fs=sampling_rate, output='sos')\n",
    "filtered_ppg1 = signal.sosfilt(sos, ppg1)\n",
    "filtered_ppg2 = signal.sosfilt(sos, ppg2)\n"
   ]
  },
  {
   "cell_type": "code",
   "execution_count": 5,
   "metadata": {},
   "outputs": [
    {
     "data": {
      "text/plain": [
       "Text(0, 0.5, 'PPG-Ear')"
      ]
     },
     "execution_count": 5,
     "metadata": {},
     "output_type": "execute_result"
    }
   ],
   "source": [
    "fig, ax = plt.subplots(2, 1)\n",
    "ax[0].plot(arduino_ts, filtered_ppg1, 'g')\n",
    "# plt.plot(arduino_ts[event_code != -1], ppg1[event_code != -1], 'ro', markersize=2)\n",
    "ax[0].set_xlabel(\"Time (seconds)\")\n",
    "ax[0].set_ylabel(\"PPG-Finger\")\n",
    "\n",
    "ax[1].plot(arduino_ts, filtered_ppg2, 'b')\n",
    "# plt.plot(arduino_ts[event_code != -1], ppg2[event_code != -1], 'ro', markersize=2)\n",
    "ax[1].set_xlabel(\"Time (seconds)\")\n",
    "ax[1].set_ylabel(\"PPG-Ear\")\n"
   ]
  },
  {
   "attachments": {},
   "cell_type": "markdown",
   "metadata": {},
   "source": [
    "### Process PPG Signals - NeuroKit Library"
   ]
  },
  {
   "cell_type": "code",
   "execution_count": 6,
   "metadata": {},
   "outputs": [
    {
     "data": {
      "text/plain": [
       "Text(17.972222222222214, 0.5, 'Normalized Signal Amplitude')"
      ]
     },
     "execution_count": 6,
     "metadata": {},
     "output_type": "execute_result"
    }
   ],
   "source": [
    "signals1, info1 = nk.ppg_process(filtered_ppg1, sampling_rate=sampling_rate)\n",
    "plt.plot(np.arange(0, len(signals1['PPG_Clean'])/sampling_rate, 1/sampling_rate), signals1['PPG_Clean'])\n",
    "plt.plot(info1['PPG_Peaks']/sampling_rate, signals1['PPG_Clean'][info1['PPG_Peaks']], 'go')\n",
    "plt.xlabel(\"Time (seconds)\")\n",
    "plt.ylabel(\"Normalized Signal Amplitude\")"
   ]
  },
  {
   "cell_type": "code",
   "execution_count": 7,
   "metadata": {},
   "outputs": [
    {
     "data": {
      "text/plain": [
       "Text(17.972222222222214, 0.5, 'Normalized Signal Amplitude')"
      ]
     },
     "execution_count": 7,
     "metadata": {},
     "output_type": "execute_result"
    }
   ],
   "source": [
    "signals2, info2 = nk.ppg_process(filtered_ppg2, sampling_rate=sampling_rate)\n",
    "plt.plot(np.arange(0, len(signals2['PPG_Clean'])/sampling_rate, 1/sampling_rate), signals2['PPG_Clean'])\n",
    "plt.plot(info2['PPG_Peaks']/sampling_rate, signals2['PPG_Clean'][info2['PPG_Peaks']], 'go')\n",
    "plt.xlabel(\"Time (seconds)\")\n",
    "plt.ylabel(\"Normalized Signal Amplitude\")"
   ]
  },
  {
   "cell_type": "code",
   "execution_count": 8,
   "metadata": {},
   "outputs": [
    {
     "name": "stdout",
     "output_type": "stream",
     "text": [
      "{'_is_copy': None, '_mgr': BlockManager\n",
      "Items: Index(['PPG_Raw', 'PPG_Clean', 'PPG_Rate', 'PPG_Peaks'], dtype='object')\n",
      "Axis 1: RangeIndex(start=0, stop=30000, step=1)\n",
      "NumericBlock: slice(0, 4, 1), 4 x 30000, dtype: float64, '_item_cache': {'PPG_Clean': 0        -59.587579\n",
      "1        -38.042922\n",
      "2        -16.414356\n",
      "3          5.206390\n",
      "4         26.707104\n",
      "            ...    \n",
      "29995   -734.116272\n",
      "29996   -680.193652\n",
      "29997   -623.877047\n",
      "29998   -566.160787\n",
      "29999   -508.026924\n",
      "Name: PPG_Clean, Length: 30000, dtype: float64}, '_attrs': {}, '_flags': <Flags(allows_duplicate_labels=True)>}\n"
     ]
    }
   ],
   "source": [
    "print(vars(signals1))"
   ]
  },
  {
   "cell_type": "code",
   "execution_count": 9,
   "metadata": {},
   "outputs": [
    {
     "name": "stdout",
     "output_type": "stream",
     "text": [
      "{'PPG_Peaks': array([  247,   432,   634,   844,  1049,  1234,  1429,  1634,  1857,\n",
      "        2070,  2259,  2464,  2685,  2917,  3122,  3312,  3506,  3713,\n",
      "        3946,  4165,  4361,  4570,  4785,  4999,  5185,  5363,  5553,\n",
      "        5774,  6011,  6228,  6418,  6615,  6827,  7052,  7269,  7452,\n",
      "        7635,  7839,  8053,  8262,  8449,  8637,  8845,  9066,  9296,\n",
      "        9509,  9694,  9879, 10089, 10323, 10558, 10757, 10965, 11190,\n",
      "       11429, 11648, 11835, 12028, 12237, 12453, 12667, 12890, 13117,\n",
      "       13326, 13547, 13775, 13980, 14183, 14400, 14602, 14789, 14990,\n",
      "       15207, 15426, 15649, 15841, 16022, 16219, 16427, 16624, 16831,\n",
      "       17041, 17251, 17456, 17652, 17838, 18020, 18200, 18358, 18522,\n",
      "       18700, 18937, 19190, 19439, 19638, 19827, 20025, 20245, 20466,\n",
      "       20682, 20890, 21090, 21284, 21476, 21652, 21827, 22010, 22205,\n",
      "       22397, 22561, 22740, 22941, 23191, 23441, 23680, 23902, 24108,\n",
      "       24285, 24459, 24643, 24843, 25047, 25243, 25416, 25593, 25795,\n",
      "       26037, 26292, 26492, 26681, 26886, 27122, 27350, 27553, 27732,\n",
      "       27920, 28113, 28319, 28530, 28722, 28903, 29077, 29251, 29427,\n",
      "       29595, 29753, 29916]), 'sampling_rate': 250.0}\n"
     ]
    }
   ],
   "source": [
    "print(info1)"
   ]
  },
  {
   "cell_type": "code",
   "execution_count": 10,
   "metadata": {},
   "outputs": [
    {
     "data": {
      "text/plain": [
       "Text(18.097222222222214, 0.5, 'Pulse Rate')"
      ]
     },
     "execution_count": 10,
     "metadata": {},
     "output_type": "execute_result"
    }
   ],
   "source": [
    "plt.plot(np.arange(len(signals1['PPG_Rate']))/sampling_rate, signals1['PPG_Rate'], 'b', label='PPG-Finger')\n",
    "plt.plot(np.arange(len(signals2['PPG_Rate']))/sampling_rate, signals2['PPG_Rate'], 'g', label='PPG-Ear')\n",
    "plt.legend()\n",
    "plt.xlabel(\"Time (seconds)\")\n",
    "plt.ylabel(\"Pulse Rate\")\n"
   ]
  },
  {
   "attachments": {},
   "cell_type": "markdown",
   "metadata": {},
   "source": [
    "### Correlation Analysis Between PPG-Finger and PPG-Ear"
   ]
  },
  {
   "cell_type": "code",
   "execution_count": 11,
   "metadata": {},
   "outputs": [
    {
     "name": "stdout",
     "output_type": "stream",
     "text": [
      "Computed Pearson r: 0.9905126165979803 and p-value: 0.0\n"
     ]
    }
   ],
   "source": [
    "r, p = stats.pearsonr(signals1['PPG_Rate'], signals2['PPG_Rate'])\n",
    "print(f\"Computed Pearson r: {r} and p-value: {p}\")\n"
   ]
  },
  {
   "cell_type": "markdown",
   "metadata": {},
   "source": []
  }
 ],
 "metadata": {
  "kernelspec": {
   "display_name": "ucl",
   "language": "python",
   "name": "python3"
  },
  "language_info": {
   "codemirror_mode": {
    "name": "ipython",
    "version": 3
   },
   "file_extension": ".py",
   "mimetype": "text/x-python",
   "name": "python",
   "nbconvert_exporter": "python",
   "pygments_lexer": "ipython3",
   "version": "3.7.9"
  },
  "orig_nbformat": 4,
  "vscode": {
   "interpreter": {
    "hash": "db43f0fec9d5f45441ede24e01aa628e343e29f5c4d2c2886063f6e4cdd203ea"
   }
  }
 },
 "nbformat": 4,
 "nbformat_minor": 2
}
