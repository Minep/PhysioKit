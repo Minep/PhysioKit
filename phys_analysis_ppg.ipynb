{
 "cells": [
  {
   "attachments": {},
   "cell_type": "markdown",
   "metadata": {},
   "source": [
    "# PPG Signal Analysis"
   ]
  },
  {
   "attachments": {},
   "cell_type": "markdown",
   "metadata": {},
   "source": [
    "### Import packages"
   ]
  },
  {
   "cell_type": "code",
   "execution_count": 1,
   "metadata": {},
   "outputs": [],
   "source": [
    "import neurokit2 as nk\n",
    "from scipy import signal\n",
    "import scipy.stats as stats\n",
    "import os\n",
    "import numpy as np\n",
    "import csv\n",
    "import matplotlib.pyplot as plt\n",
    "from utils.load_data import load_csv_data_ppg\n",
    "%matplotlib tk\n",
    "# %matplotlib inline\n"
   ]
  },
  {
   "attachments": {},
   "cell_type": "markdown",
   "metadata": {},
   "source": [
    "### Specify data path and initialize variables"
   ]
  },
  {
   "cell_type": "code",
   "execution_count": 2,
   "metadata": {},
   "outputs": [],
   "source": [
    "sampling_rate = 250.0\n",
    "data_path = r'sample_data'\n",
    "filepath = os.path.join(data_path, 'P1_S1_baseline_1674758272_855629.csv')"
   ]
  },
  {
   "attachments": {},
   "cell_type": "markdown",
   "metadata": {},
   "source": [
    "### Load Data"
   ]
  },
  {
   "cell_type": "code",
   "execution_count": 3,
   "metadata": {},
   "outputs": [
    {
     "name": "stdout",
     "output_type": "stream",
     "text": [
      "['EDA', 'Resp', 'PPG Finger', 'PPG Ear', 'arduino_ts', 'event_code']\n"
     ]
    }
   ],
   "source": [
    "ppg1, ppg2, arduino_ts, event_code = load_csv_data_ppg(filepath)"
   ]
  },
  {
   "cell_type": "code",
   "execution_count": 4,
   "metadata": {},
   "outputs": [
    {
     "data": {
      "text/plain": [
       "[<matplotlib.lines.Line2D at 0x7f934a095e20>]"
      ]
     },
     "execution_count": 4,
     "metadata": {},
     "output_type": "execute_result"
    }
   ],
   "source": [
    "fig, ax = plt.subplots(2, 1, layout='tight')\n",
    "ax[0].plot(arduino_ts, ppg1)\n",
    "ax[1].plot(arduino_ts, ppg2)"
   ]
  },
  {
   "attachments": {},
   "cell_type": "markdown",
   "metadata": {},
   "source": [
    "### Resample the signal utilizing arduino_ts - interpolate"
   ]
  },
  {
   "cell_type": "code",
   "execution_count": 5,
   "metadata": {},
   "outputs": [],
   "source": [
    "# resample the signals here"
   ]
  },
  {
   "attachments": {},
   "cell_type": "markdown",
   "metadata": {},
   "source": [
    "### Signal Filtering and Visualization"
   ]
  },
  {
   "cell_type": "code",
   "execution_count": 6,
   "metadata": {},
   "outputs": [],
   "source": [
    "sos = signal.butter(2, (0.5, 5.0), 'bandpass', fs=sampling_rate, output='sos')\n",
    "filtered_ppg1 = signal.sosfilt(sos, ppg1)\n",
    "filtered_ppg2 = signal.sosfilt(sos, ppg2)\n"
   ]
  },
  {
   "cell_type": "code",
   "execution_count": 7,
   "metadata": {},
   "outputs": [
    {
     "data": {
      "text/plain": [
       "Text(0, 0.5, 'PPG-Ear')"
      ]
     },
     "execution_count": 7,
     "metadata": {},
     "output_type": "execute_result"
    }
   ],
   "source": [
    "fig, ax = plt.subplots(2, 1)\n",
    "ax[0].plot(arduino_ts, filtered_ppg1, 'g')\n",
    "# plt.plot(arduino_ts[event_code != -1], ppg1[event_code != -1], 'ro', markersize=2)\n",
    "ax[0].set_xlabel(\"Time (seconds)\")\n",
    "ax[0].set_ylabel(\"PPG-Finger\")\n",
    "\n",
    "ax[1].plot(arduino_ts, filtered_ppg2, 'b')\n",
    "# plt.plot(arduino_ts[event_code != -1], ppg2[event_code != -1], 'ro', markersize=2)\n",
    "ax[1].set_xlabel(\"Time (seconds)\")\n",
    "ax[1].set_ylabel(\"PPG-Ear\")\n"
   ]
  },
  {
   "attachments": {},
   "cell_type": "markdown",
   "metadata": {},
   "source": [
    "### Process PPG Signals - NeuroKit Library"
   ]
  },
  {
   "cell_type": "code",
   "execution_count": 8,
   "metadata": {},
   "outputs": [
    {
     "data": {
      "text/plain": [
       "Text(17.972222222222214, 0.5, 'Normalized Signal Amplitude')"
      ]
     },
     "execution_count": 8,
     "metadata": {},
     "output_type": "execute_result"
    }
   ],
   "source": [
    "signals1, info1 = nk.ppg_process(filtered_ppg1, sampling_rate=sampling_rate)\n",
    "plt.plot(np.arange(0, len(signals1['PPG_Clean'])/sampling_rate, 1/sampling_rate), signals1['PPG_Clean'])\n",
    "plt.plot(info1['PPG_Peaks']/sampling_rate, signals1['PPG_Clean'][info1['PPG_Peaks']], 'go')\n",
    "plt.xlabel(\"Time (seconds)\")\n",
    "plt.ylabel(\"Normalized Signal Amplitude\")"
   ]
  },
  {
   "cell_type": "code",
   "execution_count": 9,
   "metadata": {},
   "outputs": [
    {
     "data": {
      "text/plain": [
       "Text(18.097222222222214, 0.5, 'Normalized Signal Amplitude')"
      ]
     },
     "execution_count": 9,
     "metadata": {},
     "output_type": "execute_result"
    }
   ],
   "source": [
    "signals2, info2 = nk.ppg_process(filtered_ppg2, sampling_rate=sampling_rate)\n",
    "plt.plot(np.arange(0, len(signals2['PPG_Clean'])/sampling_rate, 1/sampling_rate), signals2['PPG_Clean'])\n",
    "plt.plot(info2['PPG_Peaks']/sampling_rate, signals2['PPG_Clean'][info2['PPG_Peaks']], 'go')\n",
    "plt.xlabel(\"Time (seconds)\")\n",
    "plt.ylabel(\"Normalized Signal Amplitude\")"
   ]
  },
  {
   "cell_type": "code",
   "execution_count": 10,
   "metadata": {},
   "outputs": [
    {
     "name": "stdout",
     "output_type": "stream",
     "text": [
      "{'_is_copy': None, '_mgr': BlockManager\n",
      "Items: Index(['PPG_Raw', 'PPG_Clean', 'PPG_Rate', 'PPG_Peaks'], dtype='object')\n",
      "Axis 1: RangeIndex(start=0, stop=30000, step=1)\n",
      "NumericBlock: slice(0, 4, 1), 4 x 30000, dtype: float64, '_item_cache': {'PPG_Clean': 0        -59.587579\n",
      "1        -38.042922\n",
      "2        -16.414356\n",
      "3          5.206390\n",
      "4         26.707104\n",
      "            ...    \n",
      "29995   -734.116272\n",
      "29996   -680.193652\n",
      "29997   -623.877047\n",
      "29998   -566.160787\n",
      "29999   -508.026924\n",
      "Name: PPG_Clean, Length: 30000, dtype: float64}, '_attrs': {}, '_flags': <Flags(allows_duplicate_labels=True)>}\n"
     ]
    }
   ],
   "source": [
    "print(vars(signals1))"
   ]
  },
  {
   "cell_type": "code",
   "execution_count": 11,
   "metadata": {},
   "outputs": [
    {
     "name": "stdout",
     "output_type": "stream",
     "text": [
      "{'PPG_Peaks': array([  247,   432,   634,   844,  1049,  1234,  1429,  1634,  1857,\n",
      "        2070,  2259,  2464,  2685,  2917,  3122,  3312,  3506,  3713,\n",
      "        3946,  4165,  4361,  4570,  4785,  4999,  5185,  5363,  5553,\n",
      "        5774,  6011,  6228,  6418,  6615,  6827,  7052,  7269,  7452,\n",
      "        7635,  7839,  8053,  8262,  8449,  8637,  8845,  9066,  9296,\n",
      "        9509,  9694,  9879, 10089, 10323, 10558, 10757, 10965, 11190,\n",
      "       11429, 11648, 11835, 12028, 12237, 12453, 12667, 12890, 13117,\n",
      "       13326, 13547, 13775, 13980, 14183, 14400, 14602, 14789, 14990,\n",
      "       15207, 15426, 15649, 15841, 16022, 16219, 16427, 16624, 16831,\n",
      "       17041, 17251, 17456, 17652, 17838, 18020, 18200, 18358, 18522,\n",
      "       18700, 18937, 19190, 19439, 19638, 19827, 20025, 20245, 20466,\n",
      "       20682, 20890, 21090, 21284, 21476, 21652, 21827, 22010, 22205,\n",
      "       22397, 22561, 22740, 22941, 23191, 23441, 23680, 23902, 24108,\n",
      "       24285, 24459, 24643, 24843, 25047, 25243, 25416, 25593, 25795,\n",
      "       26037, 26292, 26492, 26681, 26886, 27122, 27350, 27553, 27732,\n",
      "       27920, 28113, 28319, 28530, 28722, 28903, 29077, 29251, 29427,\n",
      "       29595, 29753, 29916]), 'sampling_rate': 250.0}\n"
     ]
    }
   ],
   "source": [
    "print(info1)"
   ]
  },
  {
   "cell_type": "code",
   "execution_count": 12,
   "metadata": {},
   "outputs": [
    {
     "data": {
      "text/plain": [
       "Text(18.097222222222214, 0.5, 'Pulse Rate')"
      ]
     },
     "execution_count": 12,
     "metadata": {},
     "output_type": "execute_result"
    }
   ],
   "source": [
    "plt.plot(np.arange(len(signals1['PPG_Rate']))/sampling_rate, signals1['PPG_Rate'], 'b', label='PPG-Finger')\n",
    "plt.plot(np.arange(len(signals2['PPG_Rate']))/sampling_rate, signals2['PPG_Rate'], 'g', label='PPG-Ear')\n",
    "plt.legend()\n",
    "plt.xlabel(\"Time (seconds)\")\n",
    "plt.ylabel(\"Pulse Rate\")\n"
   ]
  },
  {
   "attachments": {},
   "cell_type": "markdown",
   "metadata": {},
   "source": [
    "### Correlation Analysis Between PPG-Finger and PPG-Ear"
   ]
  },
  {
   "cell_type": "code",
   "execution_count": 13,
   "metadata": {},
   "outputs": [
    {
     "name": "stdout",
     "output_type": "stream",
     "text": [
      "Computed Pearson r: 0.9905126165979802 and p-value: 0.0\n"
     ]
    }
   ],
   "source": [
    "r, p = stats.pearsonr(signals1['PPG_Rate'], signals2['PPG_Rate'])\n",
    "print(f\"Computed Pearson r: {r} and p-value: {p}\")\n"
   ]
  },
  {
   "attachments": {},
   "cell_type": "markdown",
   "metadata": {},
   "source": [
    "### HRV Features"
   ]
  },
  {
   "cell_type": "code",
   "execution_count": 14,
   "metadata": {},
   "outputs": [],
   "source": [
    "hrv_indices1 = nk.hrv(info1['PPG_Peaks'], sampling_rate=250, show=True)\n"
   ]
  },
  {
   "cell_type": "code",
   "execution_count": 15,
   "metadata": {},
   "outputs": [],
   "source": [
    "hrv_indices2 = nk.hrv(info2['PPG_Peaks'], sampling_rate=250, show=True)\n"
   ]
  },
  {
   "cell_type": "code",
   "execution_count": 16,
   "metadata": {},
   "outputs": [
    {
     "name": "stdout",
     "output_type": "stream",
     "text": [
      "HRV_MeanNN \t\t 812.8493150684932 \t\t 812.7671232876712\n",
      "HRV_SDNN \t\t 82.42692416385462 \t\t 80.0859056949336\n",
      "HRV_RMSSD \t\t 71.15519706223515 \t\t 68.99155370593287\n",
      "HRV_SDSD \t\t 71.3992390785516 \t\t 69.2269519856685\n",
      "HRV_CVNN \t\t 0.10140492540971026 \t\t 0.09853487352069967\n",
      "HRV_CVSD \t\t 0.0875379922738071 \t\t 0.08488477416121316\n",
      "HRV_MedianNN \t\t 814.0 \t\t 812.0\n",
      "HRV_MadNN \t\t 85.9908 \t\t 77.09519999999999\n",
      "HRV_MCVNN \t\t 0.10563980343980343 \t\t 0.09494482758620688\n",
      "HRV_IQRNN \t\t 116.0 \t\t 104.0\n",
      "HRV_Prc20NN \t\t 740.0 \t\t 740.0\n",
      "HRV_Prc80NN \t\t 884.0 \t\t 880.0\n",
      "HRV_pNN50 \t\t 47.94520547945205 \t\t 43.83561643835616\n",
      "HRV_pNN20 \t\t 76.71232876712328 \t\t 73.97260273972603\n",
      "HRV_MinNN \t\t 632.0 \t\t 632.0\n",
      "HRV_MaxNN \t\t 1020.0 \t\t 1012.0\n",
      "HRV_HTI \t\t 16.22222222222222 \t\t 18.25\n",
      "HRV_TINN \t\t 187.5 \t\t 195.3125\n",
      "HRV_LF \t\t 0.05396910279703594 \t\t 0.020548180674790067\n",
      "HRV_HF \t\t 0.058035992336327606 \t\t 0.04648398567158941\n",
      "HRV_VHF \t\t 0.0010406126276216662 \t\t 0.0012139876851589059\n",
      "HRV_LFHF \t\t 0.929924700594014 \t\t 0.44204859755278963\n",
      "HRV_LFn \t\t 0.4774095705707278 \t\t 0.3010892110534786\n",
      "HRV_HFn \t\t 0.5133851915813934 \t\t 0.681122421200584\n",
      "HRV_LnHF \t\t -2.8466919033790274 \t\t -3.068647419865482\n",
      "HRV_SD1 \t\t 50.48688612400337 \t\t 48.95084718994173\n",
      "HRV_SD2 \t\t 104.47878297508073 \t\t 101.24576524893726\n",
      "HRV_SD1SD2 \t\t 0.48322620810050027 \t\t 0.4834853790633535\n",
      "HRV_S \t\t 16571.299376456413 \t\t 15569.940483934044\n",
      "HRV_CSI \t\t 2.0694241811322085 \t\t 2.0683148721834774\n",
      "HRV_CVI \t\t 4.926326673293629 \t\t 4.899257062443307\n",
      "HRV_CSI_Modified \t\t 864.8436796155847 \t\t 837.632488039896\n",
      "HRV_PIP \t\t 0.4041095890410959 \t\t 0.3767123287671233\n",
      "HRV_IALS \t\t 0.39285714285714285 \t\t 0.3732394366197183\n",
      "HRV_PSS \t\t 0.5818181818181818 \t\t 0.5471698113207547\n",
      "HRV_PAS \t\t 0.0 \t\t 0.0\n",
      "HRV_GI \t\t 49.46025515210991 \t\t 49.327122153209096\n",
      "HRV_SI \t\t 49.37379168086585 \t\t 49.194971644289154\n",
      "HRV_AI \t\t 49.53531932745477 \t\t 49.43958680856653\n",
      "HRV_PI \t\t 47.14285714285714 \t\t 48.59154929577465\n",
      "HRV_C1d \t\t 0.46434486967134514 \t\t 0.47364150593471815\n",
      "HRV_C1a \t\t 0.5356551303286547 \t\t 0.5263584940652819\n",
      "HRV_SD1d \t\t 34.404457075598025 \t\t 33.69058556266952\n",
      "HRV_SD1a \t\t 36.95192071387419 \t\t 35.516037066216846\n",
      "HRV_C2d \t\t 0.5265514147765241 \t\t 0.45612015174695597\n",
      "HRV_C2a \t\t 0.4734485852234759 \t\t 0.543879848253044\n",
      "HRV_SD2d \t\t 75.8138404689984 \t\t 68.37801628722016\n",
      "HRV_SD2a \t\t 71.88934333609734 \t\t 74.6669396015905\n",
      "HRV_Cd \t\t 0.5147747900001682 \t\t 0.4594401846247563\n",
      "HRV_Ca \t\t 0.4852252099998318 \t\t 0.5405598153752437\n",
      "HRV_SDNNd \t\t 58.870217739216 \t\t 53.900875071425794\n",
      "HRV_SDNNa \t\t 57.15558647122662 \t\t 58.465976252673876\n",
      "HRV_DFA_alpha1 \t\t 1.0010689694345587 \t\t 1.0087519188221705\n",
      "HRV_MFDFA_alpha1_Width \t\t 1.4059825168066964 \t\t 1.6481495252294902\n",
      "HRV_MFDFA_alpha1_Peak \t\t 1.1375424732709551 \t\t 1.1812113631417906\n",
      "HRV_MFDFA_alpha1_Mean \t\t 1.6667484424076318 \t\t 1.7771669115086626\n",
      "HRV_MFDFA_alpha1_Max \t\t -1.3824339067516647 \t\t -1.4623030067401448\n",
      "HRV_MFDFA_alpha1_Delta \t\t -2.2978275584232115 \t\t -2.337458957672128\n",
      "HRV_MFDFA_alpha1_Asymmetry \t\t -0.12360416092610967 \t\t -0.13840929524650356\n",
      "HRV_MFDFA_alpha1_Fluctuation \t\t 0.0007018470347004193 \t\t 0.0014180084551903777\n",
      "HRV_MFDFA_alpha1_Increment \t\t 0.13804821870466216 \t\t 0.21078080496423918\n",
      "HRV_DFA_alpha2 \t\t -0.062061936885944455 \t\t -0.027508491603496894\n",
      "HRV_MFDFA_alpha2_Width \t\t 1.1180361537903947 \t\t 1.102850126574614\n",
      "HRV_MFDFA_alpha2_Peak \t\t 0.17637598152673484 \t\t 0.21979164293022507\n",
      "HRV_MFDFA_alpha2_Mean \t\t 0.08362081946775074 \t\t 0.05030577358782473\n",
      "HRV_MFDFA_alpha2_Max \t\t 0.10675750621659397 \t\t 0.3144238810370119\n",
      "HRV_MFDFA_alpha2_Delta \t\t -0.03309206434727896 \t\t 0.3195355843825183\n",
      "HRV_MFDFA_alpha2_Asymmetry \t\t -0.5829625783965243 \t\t -0.6536798747703039\n",
      "HRV_MFDFA_alpha2_Fluctuation \t\t 0.00038738344187139883 \t\t 0.0004848895904154968\n",
      "HRV_MFDFA_alpha2_Increment \t\t 0.0710456489950238 \t\t 0.07565904367036808\n",
      "HRV_ApEn \t\t 0.7809563953007475 \t\t 0.8459745805443819\n",
      "HRV_SampEn \t\t 1.5491181222005777 \t\t 1.6545583477145702\n",
      "HRV_ShanEn \t\t 5.913661716723842 \t\t 5.961759620636941\n",
      "HRV_FuzzyEn \t\t 1.3494126619366837 \t\t 1.327889073537785\n",
      "HRV_MSEn \t\t 1.3550623383125808 \t\t 1.3566226384624231\n",
      "HRV_CMSEn \t\t 1.235265453859891 \t\t 1.276460122130132\n",
      "HRV_RCMSEn \t\t 1.6668876792406613 \t\t 1.9635253596617637\n",
      "HRV_CD \t\t 1.96191616083591 \t\t 2.1348756047639483\n",
      "HRV_HFD \t\t 1.845977350288742 \t\t 1.8328308145928305\n",
      "HRV_KFD \t\t 3.099793805215664 \t\t 3.0262361074759085\n",
      "HRV_LZC \t\t 0.9849074738191805 \t\t 0.9849074738191805\n"
     ]
    }
   ],
   "source": [
    "for i, nm in enumerate(hrv_indices1):\n",
    "    val1 = hrv_indices1.get(nm)\n",
    "    val2 = hrv_indices2.get(nm)\n",
    "    if (val1.values[0] == val1.values[0]) and (val2.values[0] == val2.values[0]):\n",
    "        print(nm, \"\\t\\t\", val1.values[0], \"\\t\\t\", val2.values[0])\n"
   ]
  },
  {
   "cell_type": "code",
   "execution_count": null,
   "metadata": {},
   "outputs": [],
   "source": []
  }
 ],
 "metadata": {
  "kernelspec": {
   "display_name": "dev",
   "language": "python",
   "name": "python3"
  },
  "language_info": {
   "codemirror_mode": {
    "name": "ipython",
    "version": 3
   },
   "file_extension": ".py",
   "mimetype": "text/x-python",
   "name": "python",
   "nbconvert_exporter": "python",
   "pygments_lexer": "ipython3",
   "version": "3.8.10"
  },
  "orig_nbformat": 4,
  "vscode": {
   "interpreter": {
    "hash": "5f2293f5bd1190f78479496af8df342d1545b9860b8f981f5904bf004b700f46"
   }
  }
 },
 "nbformat": 4,
 "nbformat_minor": 2
}
