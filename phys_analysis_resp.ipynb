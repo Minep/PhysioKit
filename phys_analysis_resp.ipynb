{
 "cells": [
  {
   "attachments": {},
   "cell_type": "markdown",
   "metadata": {},
   "source": [
    "# Respiratory Signal Analysis"
   ]
  },
  {
   "cell_type": "markdown",
   "metadata": {},
   "source": [
    "### Import packages"
   ]
  },
  {
   "cell_type": "code",
   "execution_count": 1,
   "metadata": {},
   "outputs": [],
   "source": [
    "import neurokit2 as nk\n",
    "import os\n",
    "import numpy as np\n",
    "from scipy import signal\n",
    "import csv\n",
    "import matplotlib.pyplot as plt\n",
    "# %matplotlib inline\n",
    "%matplotlib tk"
   ]
  },
  {
   "cell_type": "markdown",
   "metadata": {},
   "source": [
    "### Specify data path and initialize variables"
   ]
  },
  {
   "cell_type": "code",
   "execution_count": 2,
   "metadata": {},
   "outputs": [],
   "source": [
    "sampling_rate = 250.0\n",
    "data_path = r'sample_data/'\n",
    "signal_path = os.path.join(data_path, 'P1_S1_baseline_1674758272_855629.csv')\n"
   ]
  },
  {
   "cell_type": "markdown",
   "metadata": {},
   "source": [
    "### Load the data and plot signal"
   ]
  },
  {
   "cell_type": "code",
   "execution_count": 3,
   "metadata": {},
   "outputs": [
    {
     "name": "stdout",
     "output_type": "stream",
     "text": [
      "['EDA', 'Resp', 'PPG Finger', 'PPG Ear', 'arduino_ts', 'event_code']\n"
     ]
    }
   ],
   "source": [
    "resp = []\n",
    "arduino_ts = []\n",
    "event_code = []\n",
    "skip_first = True\n",
    "with open(signal_path, newline='') as csvfile:\n",
    "    csvreader = csv.reader(csvfile, delimiter=',')\n",
    "    for ln in csvreader:\n",
    "        if skip_first:\n",
    "            print(ln)\n",
    "            skip_first = False\n",
    "        else:\n",
    "            # print(ln)\n",
    "            # break\n",
    "            resp.append(float(ln[1]))\n",
    "            arduino_ts.append(float(ln[4]))\n",
    "            if ln[5] != '':\n",
    "                event_code.append(float(ln[5]))\n",
    "            else:\n",
    "                event_code.append(-1)\n",
    "\n",
    "resp = np.array(resp)\n",
    "arduino_ts = np.array(arduino_ts)\n",
    "arduino_ts = (arduino_ts - arduino_ts[0])/1000\n",
    "event_code = np.array(event_code)\n",
    "# plt.plot(np.arange(0, len(raw_signal)/sampling_rate, 1/sampling_rate), raw_signal)"
   ]
  },
  {
   "cell_type": "code",
   "execution_count": 4,
   "metadata": {},
   "outputs": [
    {
     "data": {
      "text/plain": [
       "Text(0, 0.5, 'Signal Amplitude')"
      ]
     },
     "execution_count": 4,
     "metadata": {},
     "output_type": "execute_result"
    }
   ],
   "source": [
    "plt.plot(arduino_ts, resp, 'g')\n",
    "plt.plot(arduino_ts[event_code != -1], resp[event_code != -1], 'ro', markersize=2)\n",
    "plt.xlabel(\"Time (seconds)\")\n",
    "plt.ylabel(\"Signal Amplitude\")\n"
   ]
  },
  {
   "attachments": {},
   "cell_type": "markdown",
   "metadata": {},
   "source": [
    "***\n",
    "### Process Respiratory Signal\n",
    "***"
   ]
  },
  {
   "cell_type": "code",
   "execution_count": 5,
   "metadata": {},
   "outputs": [],
   "source": [
    "sos = signal.butter(2, (0.1, 0.5), 'bandpass', fs=sampling_rate, output='sos')\n",
    "filtered_resp = signal.sosfilt(sos, resp)"
   ]
  },
  {
   "cell_type": "code",
   "execution_count": 6,
   "metadata": {},
   "outputs": [],
   "source": [
    "# Clean signal\n",
    "cleaned = nk.rsp_clean(filtered_resp, sampling_rate=sampling_rate)\n",
    "\n",
    "# Extract peaks\n",
    "df, peaks_dict = nk.rsp_peaks(cleaned) \n",
    "info = nk.rsp_fixpeaks(peaks_dict)\n",
    "formatted = nk.signal_formatpeaks(info, desired_length=len(cleaned),peak_indices=info[\"RSP_Peaks\"])"
   ]
  },
  {
   "cell_type": "code",
   "execution_count": 7,
   "metadata": {},
   "outputs": [],
   "source": [
    "fixed_peaks = nk.events_plot(info['RSP_Peaks'], cleaned)"
   ]
  },
  {
   "cell_type": "code",
   "execution_count": 8,
   "metadata": {},
   "outputs": [
    {
     "data": {
      "text/plain": [
       "Text(0, 0.5, 'Breaths Per Minute')"
      ]
     },
     "execution_count": 8,
     "metadata": {},
     "output_type": "execute_result"
    }
   ],
   "source": [
    "# Extract rate\n",
    "rsp_rate = nk.rsp_rate(cleaned, peaks_dict, sampling_rate=sampling_rate)\n",
    "\n",
    "# Visualize\n",
    "nk.signal_plot(rsp_rate, sampling_rate=sampling_rate)\n",
    "plt.ylabel('Breaths Per Minute')"
   ]
  },
  {
   "cell_type": "code",
   "execution_count": 9,
   "metadata": {},
   "outputs": [
    {
     "data": {
      "text/html": [
       "<div>\n",
       "<style scoped>\n",
       "    .dataframe tbody tr th:only-of-type {\n",
       "        vertical-align: middle;\n",
       "    }\n",
       "\n",
       "    .dataframe tbody tr th {\n",
       "        vertical-align: top;\n",
       "    }\n",
       "\n",
       "    .dataframe thead th {\n",
       "        text-align: right;\n",
       "    }\n",
       "</style>\n",
       "<table border=\"1\" class=\"dataframe\">\n",
       "  <thead>\n",
       "    <tr style=\"text-align: right;\">\n",
       "      <th></th>\n",
       "      <th>RRV_RMSSD</th>\n",
       "      <th>RRV_MeanBB</th>\n",
       "      <th>RRV_SDBB</th>\n",
       "      <th>RRV_SDSD</th>\n",
       "      <th>RRV_CVBB</th>\n",
       "      <th>RRV_CVSD</th>\n",
       "      <th>RRV_MedianBB</th>\n",
       "      <th>RRV_MadBB</th>\n",
       "      <th>RRV_MCVBB</th>\n",
       "      <th>RRV_VLF</th>\n",
       "      <th>RRV_LF</th>\n",
       "      <th>RRV_HF</th>\n",
       "      <th>RRV_LFHF</th>\n",
       "      <th>RRV_LFn</th>\n",
       "      <th>RRV_HFn</th>\n",
       "      <th>RRV_SD1</th>\n",
       "      <th>RRV_SD2</th>\n",
       "      <th>RRV_SD2SD1</th>\n",
       "      <th>RRV_ApEn</th>\n",
       "      <th>RRV_SampEn</th>\n",
       "    </tr>\n",
       "  </thead>\n",
       "  <tbody>\n",
       "    <tr>\n",
       "      <th>0</th>\n",
       "      <td>2056.354379</td>\n",
       "      <td>4292.16</td>\n",
       "      <td>1881.500989</td>\n",
       "      <td>2075.099467</td>\n",
       "      <td>0.438358</td>\n",
       "      <td>0.479095</td>\n",
       "      <td>3804.0</td>\n",
       "      <td>1375.8528</td>\n",
       "      <td>0.361686</td>\n",
       "      <td>NaN</td>\n",
       "      <td>0.016264</td>\n",
       "      <td>0.000414</td>\n",
       "      <td>39.290136</td>\n",
       "      <td>NaN</td>\n",
       "      <td>NaN</td>\n",
       "      <td>1467.316905</td>\n",
       "      <td>2219.701117</td>\n",
       "      <td>1.512762</td>\n",
       "      <td>0.20778</td>\n",
       "      <td>1.609438</td>\n",
       "    </tr>\n",
       "  </tbody>\n",
       "</table>\n",
       "</div>"
      ],
      "text/plain": [
       "     RRV_RMSSD  RRV_MeanBB     RRV_SDBB     RRV_SDSD  RRV_CVBB  RRV_CVSD  \\\n",
       "0  2056.354379     4292.16  1881.500989  2075.099467  0.438358  0.479095   \n",
       "\n",
       "   RRV_MedianBB  RRV_MadBB  RRV_MCVBB  RRV_VLF    RRV_LF    RRV_HF   RRV_LFHF  \\\n",
       "0        3804.0  1375.8528   0.361686      NaN  0.016264  0.000414  39.290136   \n",
       "\n",
       "   RRV_LFn  RRV_HFn      RRV_SD1      RRV_SD2  RRV_SD2SD1  RRV_ApEn  \\\n",
       "0      NaN      NaN  1467.316905  2219.701117    1.512762   0.20778   \n",
       "\n",
       "   RRV_SampEn  \n",
       "0    1.609438  "
      ]
     },
     "execution_count": 9,
     "metadata": {},
     "output_type": "execute_result"
    }
   ],
   "source": [
    "rrv = nk.rsp_rrv(rsp_rate, info, sampling_rate=sampling_rate, show=True)\n",
    "rrv"
   ]
  },
  {
   "cell_type": "code",
   "execution_count": null,
   "metadata": {},
   "outputs": [],
   "source": []
  }
 ],
 "metadata": {
  "kernelspec": {
   "display_name": "ucl",
   "language": "python",
   "name": "python3"
  },
  "language_info": {
   "codemirror_mode": {
    "name": "ipython",
    "version": 3
   },
   "file_extension": ".py",
   "mimetype": "text/x-python",
   "name": "python",
   "nbconvert_exporter": "python",
   "pygments_lexer": "ipython3",
   "version": "3.7.9"
  },
  "orig_nbformat": 4,
  "vscode": {
   "interpreter": {
    "hash": "db43f0fec9d5f45441ede24e01aa628e343e29f5c4d2c2886063f6e4cdd203ea"
   }
  }
 },
 "nbformat": 4,
 "nbformat_minor": 2
}
