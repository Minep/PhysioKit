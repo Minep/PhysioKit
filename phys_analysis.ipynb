{
 "cells": [
  {
   "attachments": {},
   "cell_type": "markdown",
   "metadata": {},
   "source": [
    "# Physiological Signal Analysis"
   ]
  },
  {
   "cell_type": "markdown",
   "metadata": {},
   "source": [
    "### Import packages"
   ]
  },
  {
   "cell_type": "code",
   "execution_count": null,
   "metadata": {},
   "outputs": [],
   "source": [
    "import neurokit2 as nk\n",
    "import os\n",
    "import numpy as np\n",
    "import csv\n",
    "import matplotlib.pyplot as plt\n",
    "%matplotlib inline"
   ]
  },
  {
   "cell_type": "markdown",
   "metadata": {},
   "source": [
    "### Specify data path and initialize variables"
   ]
  },
  {
   "cell_type": "code",
   "execution_count": null,
   "metadata": {},
   "outputs": [],
   "source": [
    "sampling_rate = 250.0\n",
    "data_path = r'data/'\n",
    "pid = 'p01'\n",
    "signal_path = os.path.join(data_path, pid, 'git .csv')"
   ]
  },
  {
   "cell_type": "markdown",
   "metadata": {},
   "source": [
    "### Load the data and plot signal"
   ]
  },
  {
   "cell_type": "code",
   "execution_count": null,
   "metadata": {},
   "outputs": [],
   "source": [
    "eda = []\n",
    "resp = []\n",
    "ppg1 = []\n",
    "ppg2 =[]\n",
    "arduino_ts = []\n",
    "skip_first = True\n",
    "with open(signal_path, newline='') as csvfile:\n",
    "    csvreader = csv.reader(csvfile, delimiter=',')\n",
    "    for ln in csvreader:\n",
    "        if skip_first:\n",
    "            print(ln)\n",
    "            skip_first = False\n",
    "        else:\n",
    "            # print(ln)\n",
    "            # break\n",
    "            eda.append(float(ln[0]))\n",
    "            resp.append(float(ln[1]))\n",
    "            ppg1.append(float(ln[2]))\n",
    "            ppg2.append(float(ln[3]))\n",
    "            arduino_ts.append(float(ln[4]))\n",
    "\n",
    "eda = np.array(eda)\n",
    "resp = np.array(resp)\n",
    "ppg1 = np.array(ppg1)\n",
    "ppg2 = np.array(ppg2)\n",
    "arduino_ts = np.array(arduino_ts)\n",
    "arduino_ts = (arduino_ts - arduino_ts[0])/1000\n",
    "# plt.plot(np.arange(0, len(raw_signal)/sampling_rate, 1/sampling_rate), raw_signal)"
   ]
  },
  {
   "cell_type": "code",
   "execution_count": null,
   "metadata": {},
   "outputs": [],
   "source": [
    "plt.plot(arduino_ts, ppg1)\n",
    "plt.xlabel(\"Time (seconds)\")\n",
    "plt.ylabel(\"Signal Amplitude\")\n"
   ]
  },
  {
   "cell_type": "markdown",
   "metadata": {},
   "source": [
    "***\n",
    "## Process PPG Signal\n",
    "***"
   ]
  },
  {
   "cell_type": "code",
   "execution_count": null,
   "metadata": {},
   "outputs": [],
   "source": [
    "signals, info = nk.ppg_process(ppg1, sampling_rate=sampling_rate)\n",
    "plt.plot(np.arange(0, len(signals['PPG_Clean'])/sampling_rate, 1/sampling_rate), signals['PPG_Clean'])\n",
    "plt.plot(info['PPG_Peaks']/sampling_rate, signals['PPG_Clean'][info['PPG_Peaks']], 'go')\n",
    "plt.xlabel(\"Time (seconds)\")\n",
    "plt.ylabel(\"Normalized Signal Amplitude\")"
   ]
  },
  {
   "cell_type": "code",
   "execution_count": null,
   "metadata": {},
   "outputs": [],
   "source": [
    "hrv_indices = nk.hrv(info['PPG_Peaks'], sampling_rate=sampling_rate, show=True)\n",
    "hrv_indices\n"
   ]
  },
  {
   "cell_type": "markdown",
   "metadata": {},
   "source": [
    "***\n",
    "## Process EDA Signal\n",
    "***"
   ]
  },
  {
   "cell_type": "code",
   "execution_count": null,
   "metadata": {},
   "outputs": [],
   "source": [
    "signals, info = nk.eda_process(eda, sampling_rate=sampling_rate)\n",
    "# Extract clean EDA and SCR features\n",
    "cleaned = signals[\"EDA_Clean\"]\n",
    "features = [info[\"SCR_Onsets\"], info[\"SCR_Peaks\"], info[\"SCR_Recovery\"]]"
   ]
  },
  {
   "cell_type": "code",
   "execution_count": null,
   "metadata": {},
   "outputs": [],
   "source": [
    "# Plot EDA signal\n",
    "nk.eda_plot(signals)"
   ]
  },
  {
   "cell_type": "markdown",
   "metadata": {},
   "source": [
    "***\n",
    "## Process Respiratory Signal\n",
    "***"
   ]
  },
  {
   "cell_type": "code",
   "execution_count": null,
   "metadata": {},
   "outputs": [],
   "source": [
    "# Clean signal\n",
    "cleaned = nk.rsp_clean(resp, sampling_rate=sampling_rate)\n",
    "\n",
    "# Extract peaks\n",
    "df, peaks_dict = nk.rsp_peaks(cleaned) \n",
    "info = nk.rsp_fixpeaks(peaks_dict)\n",
    "formatted = nk.signal_formatpeaks(info, desired_length=len(cleaned),peak_indices=info[\"RSP_Peaks\"])"
   ]
  },
  {
   "cell_type": "code",
   "execution_count": null,
   "metadata": {},
   "outputs": [],
   "source": [
    "fixed_peaks = nk.events_plot(info['RSP_Peaks'], cleaned)"
   ]
  },
  {
   "cell_type": "code",
   "execution_count": null,
   "metadata": {},
   "outputs": [],
   "source": [
    "# Extract rate\n",
    "rsp_rate = nk.rsp_rate(cleaned, peaks_dict, sampling_rate=sampling_rate)\n",
    "\n",
    "# Visualize\n",
    "nk.signal_plot(rsp_rate, sampling_rate=sampling_rate)\n",
    "plt.ylabel('Breaths Per Minute')"
   ]
  },
  {
   "cell_type": "code",
   "execution_count": null,
   "metadata": {},
   "outputs": [],
   "source": [
    "rrv = nk.rsp_rrv(rsp_rate, info, sampling_rate=sampling_rate, show=True)\n",
    "rrv"
   ]
  }
 ],
 "metadata": {
  "kernelspec": {
   "display_name": "phys",
   "language": "python",
   "name": "python3"
  },
  "language_info": {
   "codemirror_mode": {
    "name": "ipython",
    "version": 3
   },
   "file_extension": ".py",
   "mimetype": "text/x-python",
   "name": "python",
   "nbconvert_exporter": "python",
   "pygments_lexer": "ipython3",
   "version": "3.8.7 (tags/v3.8.7:6503f05, Dec 21 2020, 17:59:51) [MSC v.1928 64 bit (AMD64)]"
  },
  "orig_nbformat": 4,
  "vscode": {
   "interpreter": {
    "hash": "3f6835b85e07f68877d8e10993cf7110ad04dbfb09c3ff7f29e55bb5eb48f19c"
   }
  }
 },
 "nbformat": 4,
 "nbformat_minor": 2
}
